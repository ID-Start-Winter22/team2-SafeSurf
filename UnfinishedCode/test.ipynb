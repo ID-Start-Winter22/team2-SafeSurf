{
 "cells": [
  {
   "cell_type": "code",
   "execution_count": 39,
   "metadata": {},
   "outputs": [
    {
     "name": "stdout",
     "output_type": "stream",
     "text": [
      "\"Cit0day\",\"CoinMarketCap\",\"StockX\",\"Teespring\",\"VoidTO\"\n"
     ]
    }
   ],
   "source": [
    "import re\n",
    "\n",
    "# given string\n",
    "string = '[{\"Name\":\"Cit0day\"},{\"Name\":\"CoinMarketCap\"},{\"Name\":\"StockX\"},{\"Name\":\"Teespring\"},{\"Name\":\"VoidTO\"}]'\n",
    "\n",
    "# use regular expressions to match and replace only the \"Name\": part of the object keys\n",
    "string = re.sub('\"Name\":', '', string)\n",
    "string = string.replace('[', '')\n",
    "string = string.replace(']', '')\n",
    "string = string.replace('{', '')\n",
    "string = string.replace('}', '')\n",
    "\n",
    "# print the modified string\n",
    "print(string)"
   ]
  },
  {
   "cell_type": "code",
   "execution_count": null,
   "metadata": {},
   "outputs": [],
   "source": [
    "import json\n",
    "import requests\n",
    "import os                                                                                                                                                                                                          \n",
    "from dotenv import load_dotenv, find_dotenv\n",
    "from pathlib import Path\n",
    "import re\n",
    "load_dotenv()\n",
    "\n",
    "\n",
    "hibp_api_key = os.getenv(\"hibp_api_key\")\n",
    "url = \"https://haveibeenpwned.com/api/v3/breachedaccount/basti@exotix.eu\"\n",
    "payload={}\n",
    "headers = {\n",
    "  'hibp-api-key': str(hibp_api_key),\n",
    "  'format': 'application/json',\n",
    "  'timeout': '2.5',\n",
    "  'HIBP': str(hibp_api_key),\n",
    "}\n",
    "\n",
    "response = requests.request(\"GET\", url, headers=headers, data=payload)\n",
    "\n",
    "string = response.text\n",
    "# use regular expressions to match and replace only the \"Name\": part of the object keys\n",
    "string = re.sub('\"Name\":', '', string)\n",
    "string = string.replace('[', '')\n",
    "string = string.replace(']', '')\n",
    "string = string.replace('{', '')\n",
    "string = string.replace('}', '')\n",
    "\n",
    "# print the modified string\n",
    "print(string)\n"
   ]
  },
  {
   "cell_type": "code",
   "execution_count": null,
   "metadata": {},
   "outputs": [],
   "source": [
    "import re\n",
    "\n",
    "def password_check(password):\n",
    "    \"\"\"\n",
    "    Verify the strength of 'password'\n",
    "    Returns a dict indicating the wrong criteria\n",
    "    A password is considered strong if:\n",
    "        8 characters length or more\n",
    "        1 digit or more\n",
    "        1 symbol or more\n",
    "        1 uppercase letter or more\n",
    "        1 lowercase letter or more\n",
    "    \"\"\"\n",
    "\n",
    "    # calculating the length\n",
    "    length_error = len(password) < 8\n",
    "\n",
    "    # searching for digits\n",
    "    digit_error = re.search(r\"\\d\", password) is None\n",
    "\n",
    "    # searching for uppercase\n",
    "    uppercase_error = re.search(r\"[A-Z]\", password) is None\n",
    "\n",
    "    # searching for lowercase\n",
    "    lowercase_error = re.search(r\"[a-z]\", password) is None\n",
    "\n",
    "    # searching for symbols\n",
    "    symbol_error = re.search(r\"[ !#$%&'()*+,-./[\\\\\\]^_`{|}~\"+r'\"]', password) is None\n",
    "\n",
    "    # overall result\n",
    "    password_ok = not ( length_error or digit_error or uppercase_error or lowercase_error or symbol_error )\n",
    "\n",
    "    if password_ok == True:\n",
    "        print(\"Passwort ist okay\")\n",
    "    else:\n",
    "        print(\"Dein PW ist nicht sicher.\")\n",
    "        if length_error == True:\n",
    "            print(\"Dein Passwort ist zu kurz\")\n",
    "        if digit_error == True:\n",
    "            print(\"Dein Passwort enthält keine Zahlen\")\n",
    "        if uppercase_error == True:\n",
    "            print(\"Dein Passwort enthält keine Großbuchstaben\")\n",
    "        if lowercase_error == True:\n",
    "            print(\"Dein Passwort enthält keine Kleinbuchstaben\")\n",
    "        if symbol_error == True:\n",
    "            print(\"Dein Passwort hat keine Sonderzeichen.\")\n",
    "\n",
    "\"\"\"     return {\n",
    "        'password_ok' : password_ok,\n",
    "        'length_error' : length_error,\n",
    "        'digit_error' : digit_error,\n",
    "        'uppercase_error' : uppercase_error,\n",
    "        'lowercase_error' : lowercase_error,\n",
    "        'symbol_error' : symbol_error,\n",
    "    }\n",
    " \"\"\"\n",
    "\n",
    "    \n",
    "password_check(\"abc\")"
   ]
  }
 ],
 "metadata": {
  "kernelspec": {
   "display_name": "Python 3",
   "language": "python",
   "name": "python3"
  },
  "language_info": {
   "codemirror_mode": {
    "name": "ipython",
    "version": 3
   },
   "file_extension": ".py",
   "mimetype": "text/x-python",
   "name": "python",
   "nbconvert_exporter": "python",
   "pygments_lexer": "ipython3",
   "version": "3.10.9"
  },
  "orig_nbformat": 4,
  "vscode": {
   "interpreter": {
    "hash": "6085004884d7fe2d487ef9b1c33a506ee19a6a4095578a744a51e1ad1ca70fa0"
   }
  }
 },
 "nbformat": 4,
 "nbformat_minor": 2
}
